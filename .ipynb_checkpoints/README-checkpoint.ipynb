{
 "cells": [
  {
   "cell_type": "markdown",
   "metadata": {},
   "source": [
    "In this project we try to the solve the problem:\n",
    "\n",
    "Using daily stock data from the S&P500 dating back many years, can we accurately predict the volatility of the market as measured by the VIX (Volatility Index), a measure of expected price fluctuations in the S&P 500 Index options over the next 30 days?\n",
    "\n",
    "DATASETS\n",
    "We initially identified the dataset we wanted to use, a kaggle dataset of “Daily Historical Stock Prices (1970-2018)” as Our X features (predictors) and a DataHub dataset of VIX (1993-2018) as our y features (to be predicted).\n",
    "\n",
    "DATA CLEANING\n",
    "We performed initial functions on the VIX data, and identified no null values. We dropped all columns except: VIX Closing and Datetime. We left VIX Closing to use as our y feature, and we left the Datetime column to merge on the kaggle dataset.\n",
    "We then performed initial functions on the stock price data and realized that the dataset included 20,000,000 data points, and 6 features. The data was free of null values. \n",
    "We dropped the adjusted close column, because we already had a closing price feature.\n",
    "20,000,000 data points is far too much for our machines to process, and would lead to highly unbalanced classes for our target dataset. As such, we decided to cherry pick predictive stocks which were representative of different sectors in the stock market.\n",
    "\n",
    "\n",
    "FEATURE ENGINEERING\n",
    "We decided to split up our stock data into the 11 main sectors of the stock market:\n",
    "Energy,\n",
    "Materials,\n",
    "Industrials,\n",
    "Consumer Discretionary,\n",
    "Consumer Staples, \n",
    "Health Care, \n",
    "Financials, \n",
    "Information Technology, \n",
    "Telecommunication Services, \n",
    "Utilities, \n",
    "Real Estate\n",
    "\n",
    "The features we use to predict for each sector are the:\n",
    "open price, close price, high price, low price, and trading volume indexed by day.\n",
    "\n",
    "For each sector we identified the 3 stocks with the highest trading volumes, and added together each of their feature values into a single value to representing the sector.\n",
    "For example, for the IT sector we concatenated the data from AAPL, AMD, and MU, into one dataframe indexed by datetime. Then for each feature, we added together each stocks value, and made a new column. So for instance, Opening Price AAPL, Opening Price AMD, and Opening Price MU, we added together into a column Opening Price IT, and then dropped the individual stocks feature column. We did this for all features.\n",
    "\n",
    "After creating 11 separate dataframes for each sector, with each sector having 5 engineered features, we concatenated all the features into one dataframe, totalling 56 features (55 after converting date column to datetime and indexing according to it), and 3150 data points. \n",
    "We then concatenated the VIX dataframe on the date column.\n",
    "\n",
    "\n",
    "FITTING MODEL\n",
    "In order to fit our model we first had to convert our features to display percent change from day to day. Next we ran our train test split, scaled our data and then converted our dataset into a time series.\n",
    "\n",
    "\n",
    "\n",
    "\n"
   ]
  }
 ],
 "metadata": {
  "kernelspec": {
   "display_name": "Python 3",
   "language": "python",
   "name": "python3"
  },
  "language_info": {
   "codemirror_mode": {
    "name": "ipython",
    "version": 3
   },
   "file_extension": ".py",
   "mimetype": "text/x-python",
   "name": "python",
   "nbconvert_exporter": "python",
   "pygments_lexer": "ipython3",
   "version": "3.8.5"
  }
 },
 "nbformat": 4,
 "nbformat_minor": 4
}
