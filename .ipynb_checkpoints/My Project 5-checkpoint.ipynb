{
 "cells": [
  {
   "cell_type": "code",
   "execution_count": 2,
   "metadata": {},
   "outputs": [],
   "source": [
    "import pandas as pd\n",
    "import numpy as np\n",
    "import matplotlib.pyplot as plt\n",
    "import tensorflow as tf\n",
    "from sklearn.model_selection import train_test_split\n",
    "\n",
    "from sklearn.preprocessing import StandardScaler\n",
    "from sklearn.metrics import accuracy_score\n",
    "\n",
    "from tensorflow.keras.models import Sequential\n",
    "from tensorflow.keras.layers import Dense, Dropout, GRU, BatchNormalization\n",
    "from tensorflow.keras.optimizers import Adam\n",
    "from tensorflow.keras.preprocessing.sequence import TimeseriesGenerator\n",
    "from tensorflow.keras.callbacks import EarlyStopping\n",
    "from tensorflow.keras.regularizers import l1, l2, l1_l2\n"
   ]
  },
  {
   "cell_type": "code",
   "execution_count": 4,
   "metadata": {},
   "outputs": [
    {
     "ename": "FileNotFoundError",
     "evalue": "[Errno 2] No such file or directory: '.data/historical_stock_prices.csv'",
     "output_type": "error",
     "traceback": [
      "\u001b[0;31m---------------------------------------------------------------------------\u001b[0m",
      "\u001b[0;31mFileNotFoundError\u001b[0m                         Traceback (most recent call last)",
      "\u001b[0;32m<ipython-input-4-99bc2d5048fe>\u001b[0m in \u001b[0;36m<module>\u001b[0;34m\u001b[0m\n\u001b[0;32m----> 1\u001b[0;31m \u001b[0mdf\u001b[0m \u001b[0;34m=\u001b[0m \u001b[0mpd\u001b[0m\u001b[0;34m.\u001b[0m\u001b[0mread_csv\u001b[0m\u001b[0;34m(\u001b[0m\u001b[0;34m'.data/historical_stock_prices.csv'\u001b[0m\u001b[0;34m)\u001b[0m\u001b[0;34m\u001b[0m\u001b[0;34m\u001b[0m\u001b[0m\n\u001b[0m",
      "\u001b[0;32m/opt/anaconda3/lib/python3.8/site-packages/pandas/io/parsers.py\u001b[0m in \u001b[0;36mread_csv\u001b[0;34m(filepath_or_buffer, sep, delimiter, header, names, index_col, usecols, squeeze, prefix, mangle_dupe_cols, dtype, engine, converters, true_values, false_values, skipinitialspace, skiprows, skipfooter, nrows, na_values, keep_default_na, na_filter, verbose, skip_blank_lines, parse_dates, infer_datetime_format, keep_date_col, date_parser, dayfirst, cache_dates, iterator, chunksize, compression, thousands, decimal, lineterminator, quotechar, quoting, doublequote, escapechar, comment, encoding, dialect, error_bad_lines, warn_bad_lines, delim_whitespace, low_memory, memory_map, float_precision)\u001b[0m\n\u001b[1;32m    684\u001b[0m     )\n\u001b[1;32m    685\u001b[0m \u001b[0;34m\u001b[0m\u001b[0m\n\u001b[0;32m--> 686\u001b[0;31m     \u001b[0;32mreturn\u001b[0m \u001b[0m_read\u001b[0m\u001b[0;34m(\u001b[0m\u001b[0mfilepath_or_buffer\u001b[0m\u001b[0;34m,\u001b[0m \u001b[0mkwds\u001b[0m\u001b[0;34m)\u001b[0m\u001b[0;34m\u001b[0m\u001b[0;34m\u001b[0m\u001b[0m\n\u001b[0m\u001b[1;32m    687\u001b[0m \u001b[0;34m\u001b[0m\u001b[0m\n\u001b[1;32m    688\u001b[0m \u001b[0;34m\u001b[0m\u001b[0m\n",
      "\u001b[0;32m/opt/anaconda3/lib/python3.8/site-packages/pandas/io/parsers.py\u001b[0m in \u001b[0;36m_read\u001b[0;34m(filepath_or_buffer, kwds)\u001b[0m\n\u001b[1;32m    450\u001b[0m \u001b[0;34m\u001b[0m\u001b[0m\n\u001b[1;32m    451\u001b[0m     \u001b[0;31m# Create the parser.\u001b[0m\u001b[0;34m\u001b[0m\u001b[0;34m\u001b[0m\u001b[0;34m\u001b[0m\u001b[0m\n\u001b[0;32m--> 452\u001b[0;31m     \u001b[0mparser\u001b[0m \u001b[0;34m=\u001b[0m \u001b[0mTextFileReader\u001b[0m\u001b[0;34m(\u001b[0m\u001b[0mfp_or_buf\u001b[0m\u001b[0;34m,\u001b[0m \u001b[0;34m**\u001b[0m\u001b[0mkwds\u001b[0m\u001b[0;34m)\u001b[0m\u001b[0;34m\u001b[0m\u001b[0;34m\u001b[0m\u001b[0m\n\u001b[0m\u001b[1;32m    453\u001b[0m \u001b[0;34m\u001b[0m\u001b[0m\n\u001b[1;32m    454\u001b[0m     \u001b[0;32mif\u001b[0m \u001b[0mchunksize\u001b[0m \u001b[0;32mor\u001b[0m \u001b[0miterator\u001b[0m\u001b[0;34m:\u001b[0m\u001b[0;34m\u001b[0m\u001b[0;34m\u001b[0m\u001b[0m\n",
      "\u001b[0;32m/opt/anaconda3/lib/python3.8/site-packages/pandas/io/parsers.py\u001b[0m in \u001b[0;36m__init__\u001b[0;34m(self, f, engine, **kwds)\u001b[0m\n\u001b[1;32m    944\u001b[0m             \u001b[0mself\u001b[0m\u001b[0;34m.\u001b[0m\u001b[0moptions\u001b[0m\u001b[0;34m[\u001b[0m\u001b[0;34m\"has_index_names\"\u001b[0m\u001b[0;34m]\u001b[0m \u001b[0;34m=\u001b[0m \u001b[0mkwds\u001b[0m\u001b[0;34m[\u001b[0m\u001b[0;34m\"has_index_names\"\u001b[0m\u001b[0;34m]\u001b[0m\u001b[0;34m\u001b[0m\u001b[0;34m\u001b[0m\u001b[0m\n\u001b[1;32m    945\u001b[0m \u001b[0;34m\u001b[0m\u001b[0m\n\u001b[0;32m--> 946\u001b[0;31m         \u001b[0mself\u001b[0m\u001b[0;34m.\u001b[0m\u001b[0m_make_engine\u001b[0m\u001b[0;34m(\u001b[0m\u001b[0mself\u001b[0m\u001b[0;34m.\u001b[0m\u001b[0mengine\u001b[0m\u001b[0;34m)\u001b[0m\u001b[0;34m\u001b[0m\u001b[0;34m\u001b[0m\u001b[0m\n\u001b[0m\u001b[1;32m    947\u001b[0m \u001b[0;34m\u001b[0m\u001b[0m\n\u001b[1;32m    948\u001b[0m     \u001b[0;32mdef\u001b[0m \u001b[0mclose\u001b[0m\u001b[0;34m(\u001b[0m\u001b[0mself\u001b[0m\u001b[0;34m)\u001b[0m\u001b[0;34m:\u001b[0m\u001b[0;34m\u001b[0m\u001b[0;34m\u001b[0m\u001b[0m\n",
      "\u001b[0;32m/opt/anaconda3/lib/python3.8/site-packages/pandas/io/parsers.py\u001b[0m in \u001b[0;36m_make_engine\u001b[0;34m(self, engine)\u001b[0m\n\u001b[1;32m   1176\u001b[0m     \u001b[0;32mdef\u001b[0m \u001b[0m_make_engine\u001b[0m\u001b[0;34m(\u001b[0m\u001b[0mself\u001b[0m\u001b[0;34m,\u001b[0m \u001b[0mengine\u001b[0m\u001b[0;34m=\u001b[0m\u001b[0;34m\"c\"\u001b[0m\u001b[0;34m)\u001b[0m\u001b[0;34m:\u001b[0m\u001b[0;34m\u001b[0m\u001b[0;34m\u001b[0m\u001b[0m\n\u001b[1;32m   1177\u001b[0m         \u001b[0;32mif\u001b[0m \u001b[0mengine\u001b[0m \u001b[0;34m==\u001b[0m \u001b[0;34m\"c\"\u001b[0m\u001b[0;34m:\u001b[0m\u001b[0;34m\u001b[0m\u001b[0;34m\u001b[0m\u001b[0m\n\u001b[0;32m-> 1178\u001b[0;31m             \u001b[0mself\u001b[0m\u001b[0;34m.\u001b[0m\u001b[0m_engine\u001b[0m \u001b[0;34m=\u001b[0m \u001b[0mCParserWrapper\u001b[0m\u001b[0;34m(\u001b[0m\u001b[0mself\u001b[0m\u001b[0;34m.\u001b[0m\u001b[0mf\u001b[0m\u001b[0;34m,\u001b[0m \u001b[0;34m**\u001b[0m\u001b[0mself\u001b[0m\u001b[0;34m.\u001b[0m\u001b[0moptions\u001b[0m\u001b[0;34m)\u001b[0m\u001b[0;34m\u001b[0m\u001b[0;34m\u001b[0m\u001b[0m\n\u001b[0m\u001b[1;32m   1179\u001b[0m         \u001b[0;32melse\u001b[0m\u001b[0;34m:\u001b[0m\u001b[0;34m\u001b[0m\u001b[0;34m\u001b[0m\u001b[0m\n\u001b[1;32m   1180\u001b[0m             \u001b[0;32mif\u001b[0m \u001b[0mengine\u001b[0m \u001b[0;34m==\u001b[0m \u001b[0;34m\"python\"\u001b[0m\u001b[0;34m:\u001b[0m\u001b[0;34m\u001b[0m\u001b[0;34m\u001b[0m\u001b[0m\n",
      "\u001b[0;32m/opt/anaconda3/lib/python3.8/site-packages/pandas/io/parsers.py\u001b[0m in \u001b[0;36m__init__\u001b[0;34m(self, src, **kwds)\u001b[0m\n\u001b[1;32m   2006\u001b[0m         \u001b[0mkwds\u001b[0m\u001b[0;34m[\u001b[0m\u001b[0;34m\"usecols\"\u001b[0m\u001b[0;34m]\u001b[0m \u001b[0;34m=\u001b[0m \u001b[0mself\u001b[0m\u001b[0;34m.\u001b[0m\u001b[0musecols\u001b[0m\u001b[0;34m\u001b[0m\u001b[0;34m\u001b[0m\u001b[0m\n\u001b[1;32m   2007\u001b[0m \u001b[0;34m\u001b[0m\u001b[0m\n\u001b[0;32m-> 2008\u001b[0;31m         \u001b[0mself\u001b[0m\u001b[0;34m.\u001b[0m\u001b[0m_reader\u001b[0m \u001b[0;34m=\u001b[0m \u001b[0mparsers\u001b[0m\u001b[0;34m.\u001b[0m\u001b[0mTextReader\u001b[0m\u001b[0;34m(\u001b[0m\u001b[0msrc\u001b[0m\u001b[0;34m,\u001b[0m \u001b[0;34m**\u001b[0m\u001b[0mkwds\u001b[0m\u001b[0;34m)\u001b[0m\u001b[0;34m\u001b[0m\u001b[0;34m\u001b[0m\u001b[0m\n\u001b[0m\u001b[1;32m   2009\u001b[0m         \u001b[0mself\u001b[0m\u001b[0;34m.\u001b[0m\u001b[0munnamed_cols\u001b[0m \u001b[0;34m=\u001b[0m \u001b[0mself\u001b[0m\u001b[0;34m.\u001b[0m\u001b[0m_reader\u001b[0m\u001b[0;34m.\u001b[0m\u001b[0munnamed_cols\u001b[0m\u001b[0;34m\u001b[0m\u001b[0;34m\u001b[0m\u001b[0m\n\u001b[1;32m   2010\u001b[0m \u001b[0;34m\u001b[0m\u001b[0m\n",
      "\u001b[0;32mpandas/_libs/parsers.pyx\u001b[0m in \u001b[0;36mpandas._libs.parsers.TextReader.__cinit__\u001b[0;34m()\u001b[0m\n",
      "\u001b[0;32mpandas/_libs/parsers.pyx\u001b[0m in \u001b[0;36mpandas._libs.parsers.TextReader._setup_parser_source\u001b[0;34m()\u001b[0m\n",
      "\u001b[0;31mFileNotFoundError\u001b[0m: [Errno 2] No such file or directory: '.data/historical_stock_prices.csv'"
     ]
    }
   ],
   "source": [
    "df = pd.read_csv('.data/historical_stock_prices.csv')"
   ]
  },
  {
   "cell_type": "code",
   "execution_count": null,
   "metadata": {
    "scrolled": true
   },
   "outputs": [],
   "source": [
    "df.head()"
   ]
  },
  {
   "cell_type": "code",
   "execution_count": null,
   "metadata": {},
   "outputs": [],
   "source": [
    "df_XOM =  df.loc[df['ticker'] == 'XOM']\n",
    "df_MRO =  df.loc[df['ticker'] == 'MRO']\n",
    "df_OXY =  df.loc[df['ticker'] == 'OXY']\n",
    "\n",
    "df_energy = df_XOM.merge(df_MRO, on='date')\n",
    "\n",
    "df_energy = df_energy.merge(df_OXY, on = \"date\")"
   ]
  },
  {
   "cell_type": "code",
   "execution_count": 126,
   "metadata": {},
   "outputs": [
    {
     "data": {
      "text/html": [
       "<div>\n",
       "<style scoped>\n",
       "    .dataframe tbody tr th:only-of-type {\n",
       "        vertical-align: middle;\n",
       "    }\n",
       "\n",
       "    .dataframe tbody tr th {\n",
       "        vertical-align: top;\n",
       "    }\n",
       "\n",
       "    .dataframe thead th {\n",
       "        text-align: right;\n",
       "    }\n",
       "</style>\n",
       "<table border=\"1\" class=\"dataframe\">\n",
       "  <thead>\n",
       "    <tr style=\"text-align: right;\">\n",
       "      <th></th>\n",
       "      <th>ticker_x</th>\n",
       "      <th>open_x</th>\n",
       "      <th>close_x</th>\n",
       "      <th>adj_close_x</th>\n",
       "      <th>low_x</th>\n",
       "      <th>high_x</th>\n",
       "      <th>volume_x</th>\n",
       "      <th>date</th>\n",
       "      <th>ticker_y</th>\n",
       "      <th>open_y</th>\n",
       "      <th>...</th>\n",
       "      <th>low_y</th>\n",
       "      <th>high_y</th>\n",
       "      <th>volume_y</th>\n",
       "      <th>ticker</th>\n",
       "      <th>open</th>\n",
       "      <th>close</th>\n",
       "      <th>adj_close</th>\n",
       "      <th>low</th>\n",
       "      <th>high</th>\n",
       "      <th>volume</th>\n",
       "    </tr>\n",
       "  </thead>\n",
       "  <tbody>\n",
       "    <tr>\n",
       "      <th>0</th>\n",
       "      <td>XOM</td>\n",
       "      <td>3.890625</td>\n",
       "      <td>3.906250</td>\n",
       "      <td>0.110121</td>\n",
       "      <td>3.875000</td>\n",
       "      <td>3.921875</td>\n",
       "      <td>3553600</td>\n",
       "      <td>1981-12-31</td>\n",
       "      <td>MRO</td>\n",
       "      <td>7.456250</td>\n",
       "      <td>...</td>\n",
       "      <td>7.363047</td>\n",
       "      <td>7.487318</td>\n",
       "      <td>167300</td>\n",
       "      <td>OXY</td>\n",
       "      <td>11.347040</td>\n",
       "      <td>11.496737</td>\n",
       "      <td>0.541441</td>\n",
       "      <td>11.197343</td>\n",
       "      <td>11.496737</td>\n",
       "      <td>431600</td>\n",
       "    </tr>\n",
       "    <tr>\n",
       "      <th>1</th>\n",
       "      <td>XOM</td>\n",
       "      <td>3.875000</td>\n",
       "      <td>3.859375</td>\n",
       "      <td>0.108800</td>\n",
       "      <td>3.843750</td>\n",
       "      <td>3.906250</td>\n",
       "      <td>5092000</td>\n",
       "      <td>1982-01-04</td>\n",
       "      <td>MRO</td>\n",
       "      <td>7.456250</td>\n",
       "      <td>...</td>\n",
       "      <td>7.394114</td>\n",
       "      <td>7.487318</td>\n",
       "      <td>195800</td>\n",
       "      <td>OXY</td>\n",
       "      <td>11.496737</td>\n",
       "      <td>11.496737</td>\n",
       "      <td>0.541441</td>\n",
       "      <td>11.376980</td>\n",
       "      <td>11.556616</td>\n",
       "      <td>329600</td>\n",
       "    </tr>\n",
       "    <tr>\n",
       "      <th>2</th>\n",
       "      <td>XOM</td>\n",
       "      <td>3.828125</td>\n",
       "      <td>3.796875</td>\n",
       "      <td>0.107038</td>\n",
       "      <td>3.781250</td>\n",
       "      <td>3.859375</td>\n",
       "      <td>6369600</td>\n",
       "      <td>1982-01-05</td>\n",
       "      <td>MRO</td>\n",
       "      <td>7.425182</td>\n",
       "      <td>...</td>\n",
       "      <td>7.331979</td>\n",
       "      <td>7.487318</td>\n",
       "      <td>254100</td>\n",
       "      <td>OXY</td>\n",
       "      <td>11.376980</td>\n",
       "      <td>11.317101</td>\n",
       "      <td>0.532980</td>\n",
       "      <td>11.317101</td>\n",
       "      <td>11.436858</td>\n",
       "      <td>383300</td>\n",
       "    </tr>\n",
       "    <tr>\n",
       "      <th>3</th>\n",
       "      <td>XOM</td>\n",
       "      <td>3.781250</td>\n",
       "      <td>3.796875</td>\n",
       "      <td>0.107038</td>\n",
       "      <td>3.750000</td>\n",
       "      <td>3.796875</td>\n",
       "      <td>10009600</td>\n",
       "      <td>1982-01-06</td>\n",
       "      <td>MRO</td>\n",
       "      <td>7.238776</td>\n",
       "      <td>...</td>\n",
       "      <td>7.145573</td>\n",
       "      <td>7.331979</td>\n",
       "      <td>390200</td>\n",
       "      <td>OXY</td>\n",
       "      <td>11.317101</td>\n",
       "      <td>11.376980</td>\n",
       "      <td>0.535800</td>\n",
       "      <td>11.257221</td>\n",
       "      <td>11.376980</td>\n",
       "      <td>281800</td>\n",
       "    </tr>\n",
       "    <tr>\n",
       "      <th>4</th>\n",
       "      <td>XOM</td>\n",
       "      <td>3.781250</td>\n",
       "      <td>3.796875</td>\n",
       "      <td>0.107038</td>\n",
       "      <td>3.765625</td>\n",
       "      <td>3.796875</td>\n",
       "      <td>4474400</td>\n",
       "      <td>1982-01-07</td>\n",
       "      <td>MRO</td>\n",
       "      <td>7.114505</td>\n",
       "      <td>...</td>\n",
       "      <td>6.959167</td>\n",
       "      <td>7.238776</td>\n",
       "      <td>691000</td>\n",
       "      <td>OXY</td>\n",
       "      <td>11.317101</td>\n",
       "      <td>11.376980</td>\n",
       "      <td>0.535800</td>\n",
       "      <td>11.257221</td>\n",
       "      <td>11.376980</td>\n",
       "      <td>168600</td>\n",
       "    </tr>\n",
       "  </tbody>\n",
       "</table>\n",
       "<p>5 rows × 22 columns</p>\n",
       "</div>"
      ],
      "text/plain": [
       "  ticker_x    open_x   close_x  adj_close_x     low_x    high_x  volume_x  \\\n",
       "0      XOM  3.890625  3.906250     0.110121  3.875000  3.921875   3553600   \n",
       "1      XOM  3.875000  3.859375     0.108800  3.843750  3.906250   5092000   \n",
       "2      XOM  3.828125  3.796875     0.107038  3.781250  3.859375   6369600   \n",
       "3      XOM  3.781250  3.796875     0.107038  3.750000  3.796875  10009600   \n",
       "4      XOM  3.781250  3.796875     0.107038  3.765625  3.796875   4474400   \n",
       "\n",
       "         date ticker_y    open_y  ...     low_y    high_y  volume_y  ticker  \\\n",
       "0  1981-12-31      MRO  7.456250  ...  7.363047  7.487318    167300     OXY   \n",
       "1  1982-01-04      MRO  7.456250  ...  7.394114  7.487318    195800     OXY   \n",
       "2  1982-01-05      MRO  7.425182  ...  7.331979  7.487318    254100     OXY   \n",
       "3  1982-01-06      MRO  7.238776  ...  7.145573  7.331979    390200     OXY   \n",
       "4  1982-01-07      MRO  7.114505  ...  6.959167  7.238776    691000     OXY   \n",
       "\n",
       "        open      close  adj_close        low       high  volume  \n",
       "0  11.347040  11.496737   0.541441  11.197343  11.496737  431600  \n",
       "1  11.496737  11.496737   0.541441  11.376980  11.556616  329600  \n",
       "2  11.376980  11.317101   0.532980  11.317101  11.436858  383300  \n",
       "3  11.317101  11.376980   0.535800  11.257221  11.376980  281800  \n",
       "4  11.317101  11.376980   0.535800  11.257221  11.376980  168600  \n",
       "\n",
       "[5 rows x 22 columns]"
      ]
     },
     "execution_count": 126,
     "metadata": {},
     "output_type": "execute_result"
    }
   ],
   "source": [
    "df_energy.head()"
   ]
  },
  {
   "cell_type": "code",
   "execution_count": 127,
   "metadata": {},
   "outputs": [
    {
     "name": "stdout",
     "output_type": "stream",
     "text": [
      "ticker_x\n",
      "open_x\n",
      "close_x\n",
      "adj_close_x\n",
      "low_x\n",
      "high_x\n",
      "volume_x\n",
      "date\n",
      "ticker_y\n",
      "open_y\n",
      "close_y\n",
      "adj_close_y\n",
      "low_y\n",
      "high_y\n",
      "volume_y\n",
      "ticker\n",
      "open\n",
      "close\n",
      "adj_close\n",
      "low\n",
      "high\n",
      "volume\n"
     ]
    }
   ],
   "source": [
    "for col in df_energy.columns: \n",
    "    print(col) "
   ]
  },
  {
   "cell_type": "code",
   "execution_count": 128,
   "metadata": {},
   "outputs": [],
   "source": [
    "df_energy[\"open energy\"] = df_energy[\"open_x\"] + df_energy[\"open_y\"] + df_energy[\"open\"]\n",
    "\n",
    "df_energy[\"close energy\"] = df_energy[\"close_x\"] + df_energy[\"close_y\"] + df_energy[\"close\"]\n",
    "\n",
    "df_energy[\"adjusted close energy\"] = df_energy[\"adj_close_x\"] + df_energy[\"adj_close_y\"] + df_energy[\"adj_close\"]\n",
    "\n",
    "df_energy[\"low energy\"] = df_energy[\"low_x\"] + df_energy[\"low_y\"] + df_energy[\"low\"]\n",
    "\n",
    "df_energy[\"high energy\"] = df_energy[\"high_x\"] + df_energy[\"high_y\"] + df_energy[\"high\"]\n",
    "\n",
    "df_energy[\"volume energy\"] = df_energy[\"volume_x\"] + df_energy[\"volume_y\"] + df_energy[\"volume\"]"
   ]
  },
  {
   "cell_type": "code",
   "execution_count": 129,
   "metadata": {},
   "outputs": [],
   "source": [
    "df_energy.drop(columns = [\"ticker_x\",\n",
    "\"open_x\",\n",
    "\"close_x\",\n",
    "\"adj_close_x\",\n",
    "\"low_x\",\n",
    "\"high_x\",\n",
    "\"volume_x\",\n",
    "\"date\",\n",
    "\"ticker_y\",\n",
    "\"open_y\",\n",
    "\"close_y\",\n",
    "\"adj_close_y\",\n",
    "\"low_y\",\n",
    "\"high_y\",\n",
    "\"volume_y\",\n",
    "\"ticker\",\n",
    "\"open\",\n",
    "\"close\",\n",
    "\"adj_close\",\n",
    "\"low\",\n",
    "\"high\",\n",
    "\"volume\"],\n",
    "inplace = True)"
   ]
  },
  {
   "cell_type": "code",
   "execution_count": 130,
   "metadata": {
    "scrolled": true
   },
   "outputs": [
    {
     "data": {
      "text/html": [
       "<div>\n",
       "<style scoped>\n",
       "    .dataframe tbody tr th:only-of-type {\n",
       "        vertical-align: middle;\n",
       "    }\n",
       "\n",
       "    .dataframe tbody tr th {\n",
       "        vertical-align: top;\n",
       "    }\n",
       "\n",
       "    .dataframe thead th {\n",
       "        text-align: right;\n",
       "    }\n",
       "</style>\n",
       "<table border=\"1\" class=\"dataframe\">\n",
       "  <thead>\n",
       "    <tr style=\"text-align: right;\">\n",
       "      <th></th>\n",
       "      <th>open energy</th>\n",
       "      <th>close energy</th>\n",
       "      <th>adjusted close energy</th>\n",
       "      <th>low energy</th>\n",
       "      <th>high energy</th>\n",
       "      <th>volume energy</th>\n",
       "    </tr>\n",
       "  </thead>\n",
       "  <tbody>\n",
       "    <tr>\n",
       "      <th>0</th>\n",
       "      <td>22.693915</td>\n",
       "      <td>22.828170</td>\n",
       "      <td>1.158364</td>\n",
       "      <td>22.435390</td>\n",
       "      <td>22.905930</td>\n",
       "      <td>4152500</td>\n",
       "    </tr>\n",
       "    <tr>\n",
       "      <th>1</th>\n",
       "      <td>22.827988</td>\n",
       "      <td>22.812363</td>\n",
       "      <td>1.159162</td>\n",
       "      <td>22.614844</td>\n",
       "      <td>22.950183</td>\n",
       "      <td>5617400</td>\n",
       "    </tr>\n",
       "    <tr>\n",
       "      <th>2</th>\n",
       "      <td>22.630287</td>\n",
       "      <td>22.508090</td>\n",
       "      <td>1.144699</td>\n",
       "      <td>22.430330</td>\n",
       "      <td>22.783551</td>\n",
       "      <td>7007000</td>\n",
       "    </tr>\n",
       "    <tr>\n",
       "      <th>3</th>\n",
       "      <td>22.337127</td>\n",
       "      <td>22.412631</td>\n",
       "      <td>1.136917</td>\n",
       "      <td>22.152794</td>\n",
       "      <td>22.505834</td>\n",
       "      <td>10681600</td>\n",
       "    </tr>\n",
       "    <tr>\n",
       "      <th>4</th>\n",
       "      <td>22.212856</td>\n",
       "      <td>22.288360</td>\n",
       "      <td>1.128435</td>\n",
       "      <td>21.982013</td>\n",
       "      <td>22.412631</td>\n",
       "      <td>5334000</td>\n",
       "    </tr>\n",
       "  </tbody>\n",
       "</table>\n",
       "</div>"
      ],
      "text/plain": [
       "   open energy  close energy  adjusted close energy  low energy  high energy  \\\n",
       "0    22.693915     22.828170               1.158364   22.435390    22.905930   \n",
       "1    22.827988     22.812363               1.159162   22.614844    22.950183   \n",
       "2    22.630287     22.508090               1.144699   22.430330    22.783551   \n",
       "3    22.337127     22.412631               1.136917   22.152794    22.505834   \n",
       "4    22.212856     22.288360               1.128435   21.982013    22.412631   \n",
       "\n",
       "   volume energy  \n",
       "0        4152500  \n",
       "1        5617400  \n",
       "2        7007000  \n",
       "3       10681600  \n",
       "4        5334000  "
      ]
     },
     "execution_count": 130,
     "metadata": {},
     "output_type": "execute_result"
    }
   ],
   "source": [
    "df_energy.head()"
   ]
  },
  {
   "cell_type": "code",
   "execution_count": 182,
   "metadata": {},
   "outputs": [],
   "source": [
    "df_energy.to_csv('df_energy.csv')"
   ]
  },
  {
   "cell_type": "markdown",
   "metadata": {},
   "source": [
    "Code For Materials Sector"
   ]
  },
  {
   "cell_type": "code",
   "execution_count": 131,
   "metadata": {},
   "outputs": [],
   "source": [
    "df_FCX =  df.loc[df['ticker'] == 'FCX']\n",
    "df_IFF =  df.loc[df['ticker'] == 'IFF']\n",
    "df_NEM =  df.loc[df['ticker'] == 'NEM']\n",
    "\n",
    "df_materials = df_FCX.merge(df_IFF, on='date')\n",
    "\n",
    "df_materials = df_materials.merge(df_NEM, on = \"date\")"
   ]
  },
  {
   "cell_type": "code",
   "execution_count": 132,
   "metadata": {},
   "outputs": [],
   "source": [
    "df_materials[\"open materials\"] = df_materials[\"open_x\"] + df_materials[\"open_y\"] + df_materials[\"open\"]\n",
    "\n",
    "df_materials[\"close materials\"] = df_materials[\"close_x\"] + df_materials[\"close_y\"] + df_materials[\"close\"]\n",
    "\n",
    "df_materials[\"adjusted close materials\"] = df_materials[\"adj_close_x\"] + df_materials[\"adj_close_y\"] + df_materials[\"adj_close\"]\n",
    "\n",
    "df_materials[\"low materials\"] = df_materials[\"low_x\"] + df_materials[\"low_y\"] + df_materials[\"low\"]\n",
    "\n",
    "df_materials[\"high materials\"] = df_materials[\"high_x\"] + df_materials[\"high_y\"] + df_materials[\"high\"]\n",
    "\n",
    "df_materials[\"volume materials\"] = df_materials[\"volume_x\"] + df_materials[\"volume_y\"] + df_materials[\"volume\"]"
   ]
  },
  {
   "cell_type": "code",
   "execution_count": 133,
   "metadata": {},
   "outputs": [],
   "source": [
    "df_materials.drop(columns = [\"ticker_x\",\n",
    "\"open_x\",\n",
    "\"close_x\",\n",
    "\"adj_close_x\",\n",
    "\"low_x\",\n",
    "\"high_x\",\n",
    "\"volume_x\",\n",
    "\"date\",\n",
    "\"ticker_y\",\n",
    "\"open_y\",\n",
    "\"close_y\",\n",
    "\"adj_close_y\",\n",
    "\"low_y\",\n",
    "\"high_y\",\n",
    "\"volume_y\",\n",
    "\"ticker\",\n",
    "\"open\",\n",
    "\"close\",\n",
    "\"adj_close\",\n",
    "\"low\",\n",
    "\"high\",\n",
    "\"volume\"],\n",
    "inplace = True)"
   ]
  },
  {
   "cell_type": "code",
   "execution_count": 183,
   "metadata": {},
   "outputs": [],
   "source": [
    "df_materials.to_csv('df_materials.csv')"
   ]
  },
  {
   "cell_type": "markdown",
   "metadata": {},
   "source": [
    "Industrials Merge"
   ]
  },
  {
   "cell_type": "code",
   "execution_count": 134,
   "metadata": {},
   "outputs": [],
   "source": [
    "df_GE =  df.loc[df['ticker'] == 'GE']\n",
    "df_AAL =  df.loc[df['ticker'] == 'AAL']\n",
    "df_UAL =  df.loc[df['ticker'] == 'UAL']\n",
    "\n",
    "df_industrials = df_GE.merge(df_AAL, on='date')\n",
    "\n",
    "df_industrials = df_industrials.merge(df_UAL, on = \"date\")"
   ]
  },
  {
   "cell_type": "code",
   "execution_count": 135,
   "metadata": {},
   "outputs": [],
   "source": [
    "df_industrials[\"open industrials\"] = df_industrials[\"open_x\"] + df_industrials[\"open_y\"] + df_industrials[\"open\"]\n",
    "\n",
    "df_industrials[\"close industrials\"] = df_industrials[\"close_x\"] + df_industrials[\"close_y\"] + df_industrials[\"close\"]\n",
    "\n",
    "df_industrials[\"adjusted close industrials\"] = df_industrials[\"adj_close_x\"] + df_industrials[\"adj_close_y\"] + df_industrials[\"adj_close\"]\n",
    "\n",
    "df_industrials[\"low industrials\"] = df_industrials[\"low_x\"] + df_industrials[\"low_y\"] + df_industrials[\"low\"]\n",
    "\n",
    "df_industrials[\"high industrials\"] = df_industrials[\"high_x\"] + df_industrials[\"high_y\"] + df_industrials[\"high\"]\n",
    "\n",
    "df_industrials[\"volume industrials\"] = df_industrials[\"volume_x\"] + df_industrials[\"volume_y\"] + df_industrials[\"volume\"]"
   ]
  },
  {
   "cell_type": "code",
   "execution_count": 136,
   "metadata": {},
   "outputs": [],
   "source": [
    "df_industrials.drop(columns = [\"ticker_x\",\n",
    "\"open_x\",\n",
    "\"close_x\",\n",
    "\"adj_close_x\",\n",
    "\"low_x\",\n",
    "\"high_x\",\n",
    "\"volume_x\",\n",
    "\"date\",\n",
    "\"ticker_y\",\n",
    "\"open_y\",\n",
    "\"close_y\",\n",
    "\"adj_close_y\",\n",
    "\"low_y\",\n",
    "\"high_y\",\n",
    "\"volume_y\",\n",
    "\"ticker\",\n",
    "\"open\",\n",
    "\"close\",\n",
    "\"adj_close\",\n",
    "\"low\",\n",
    "\"high\",\n",
    "\"volume\"],\n",
    "inplace = True)"
   ]
  },
  {
   "cell_type": "code",
   "execution_count": 138,
   "metadata": {},
   "outputs": [
    {
     "data": {
      "text/html": [
       "<div>\n",
       "<style scoped>\n",
       "    .dataframe tbody tr th:only-of-type {\n",
       "        vertical-align: middle;\n",
       "    }\n",
       "\n",
       "    .dataframe tbody tr th {\n",
       "        vertical-align: top;\n",
       "    }\n",
       "\n",
       "    .dataframe thead th {\n",
       "        text-align: right;\n",
       "    }\n",
       "</style>\n",
       "<table border=\"1\" class=\"dataframe\">\n",
       "  <thead>\n",
       "    <tr style=\"text-align: right;\">\n",
       "      <th></th>\n",
       "      <th>open industrials</th>\n",
       "      <th>close industrials</th>\n",
       "      <th>adjusted close industrials</th>\n",
       "      <th>low industrials</th>\n",
       "      <th>high industrials</th>\n",
       "      <th>volume industrials</th>\n",
       "    </tr>\n",
       "  </thead>\n",
       "  <tbody>\n",
       "    <tr>\n",
       "      <th>0</th>\n",
       "      <td>96.869999</td>\n",
       "      <td>95.920002</td>\n",
       "      <td>80.550484</td>\n",
       "      <td>95.010002</td>\n",
       "      <td>97.529999</td>\n",
       "      <td>25653100</td>\n",
       "    </tr>\n",
       "    <tr>\n",
       "      <th>1</th>\n",
       "      <td>95.910002</td>\n",
       "      <td>94.300003</td>\n",
       "      <td>79.161594</td>\n",
       "      <td>92.559999</td>\n",
       "      <td>96.080002</td>\n",
       "      <td>40505100</td>\n",
       "    </tr>\n",
       "    <tr>\n",
       "      <th>2</th>\n",
       "      <td>92.870001</td>\n",
       "      <td>94.730001</td>\n",
       "      <td>79.459028</td>\n",
       "      <td>92.119999</td>\n",
       "      <td>95.950003</td>\n",
       "      <td>36586200</td>\n",
       "    </tr>\n",
       "    <tr>\n",
       "      <th>3</th>\n",
       "      <td>92.529999</td>\n",
       "      <td>97.769999</td>\n",
       "      <td>82.256662</td>\n",
       "      <td>91.819998</td>\n",
       "      <td>98.500000</td>\n",
       "      <td>34783300</td>\n",
       "    </tr>\n",
       "    <tr>\n",
       "      <th>4</th>\n",
       "      <td>97.339996</td>\n",
       "      <td>97.520000</td>\n",
       "      <td>81.905180</td>\n",
       "      <td>96.209997</td>\n",
       "      <td>99.439999</td>\n",
       "      <td>29192600</td>\n",
       "    </tr>\n",
       "  </tbody>\n",
       "</table>\n",
       "</div>"
      ],
      "text/plain": [
       "   open industrials  close industrials  adjusted close industrials  \\\n",
       "0         96.869999          95.920002                   80.550484   \n",
       "1         95.910002          94.300003                   79.161594   \n",
       "2         92.870001          94.730001                   79.459028   \n",
       "3         92.529999          97.769999                   82.256662   \n",
       "4         97.339996          97.520000                   81.905180   \n",
       "\n",
       "   low industrials  high industrials  volume industrials  \n",
       "0        95.010002         97.529999            25653100  \n",
       "1        92.559999         96.080002            40505100  \n",
       "2        92.119999         95.950003            36586200  \n",
       "3        91.819998         98.500000            34783300  \n",
       "4        96.209997         99.439999            29192600  "
      ]
     },
     "execution_count": 138,
     "metadata": {},
     "output_type": "execute_result"
    }
   ],
   "source": [
    "df_industrials.head()"
   ]
  },
  {
   "cell_type": "code",
   "execution_count": 184,
   "metadata": {},
   "outputs": [],
   "source": [
    "df_industrials.to_csv('df_industrials.csv') "
   ]
  },
  {
   "cell_type": "markdown",
   "metadata": {},
   "source": [
    "Consumer Discretionary"
   ]
  },
  {
   "cell_type": "code",
   "execution_count": 1,
   "metadata": {},
   "outputs": [
    {
     "ename": "NameError",
     "evalue": "name 'df' is not defined",
     "output_type": "error",
     "traceback": [
      "\u001b[0;31m---------------------------------------------------------------------------\u001b[0m",
      "\u001b[0;31mNameError\u001b[0m                                 Traceback (most recent call last)",
      "\u001b[0;32m<ipython-input-1-7cff5c861549>\u001b[0m in \u001b[0;36m<module>\u001b[0;34m\u001b[0m\n\u001b[0;32m----> 1\u001b[0;31m \u001b[0mdf_F\u001b[0m \u001b[0;34m=\u001b[0m  \u001b[0mdf\u001b[0m\u001b[0;34m.\u001b[0m\u001b[0mloc\u001b[0m\u001b[0;34m[\u001b[0m\u001b[0mdf\u001b[0m\u001b[0;34m[\u001b[0m\u001b[0;34m'ticker'\u001b[0m\u001b[0;34m]\u001b[0m \u001b[0;34m==\u001b[0m \u001b[0;34m'F'\u001b[0m\u001b[0;34m]\u001b[0m\u001b[0;34m\u001b[0m\u001b[0;34m\u001b[0m\u001b[0m\n\u001b[0m\u001b[1;32m      2\u001b[0m \u001b[0mdf_CCL\u001b[0m \u001b[0;34m=\u001b[0m  \u001b[0mdf\u001b[0m\u001b[0;34m.\u001b[0m\u001b[0mloc\u001b[0m\u001b[0;34m[\u001b[0m\u001b[0mdf\u001b[0m\u001b[0;34m[\u001b[0m\u001b[0;34m'ticker'\u001b[0m\u001b[0;34m]\u001b[0m \u001b[0;34m==\u001b[0m \u001b[0;34m'CCL'\u001b[0m\u001b[0;34m]\u001b[0m\u001b[0;34m\u001b[0m\u001b[0;34m\u001b[0m\u001b[0m\n\u001b[1;32m      3\u001b[0m \u001b[0mdf_TJX\u001b[0m \u001b[0;34m=\u001b[0m  \u001b[0mdf\u001b[0m\u001b[0;34m.\u001b[0m\u001b[0mloc\u001b[0m\u001b[0;34m[\u001b[0m\u001b[0mdf\u001b[0m\u001b[0;34m[\u001b[0m\u001b[0;34m'ticker'\u001b[0m\u001b[0;34m]\u001b[0m \u001b[0;34m==\u001b[0m \u001b[0;34m'TJX'\u001b[0m\u001b[0;34m]\u001b[0m\u001b[0;34m\u001b[0m\u001b[0;34m\u001b[0m\u001b[0m\n\u001b[1;32m      4\u001b[0m \u001b[0;34m\u001b[0m\u001b[0m\n\u001b[1;32m      5\u001b[0m \u001b[0mdf_consumer_discretionary\u001b[0m \u001b[0;34m=\u001b[0m \u001b[0mdf_F\u001b[0m\u001b[0;34m.\u001b[0m\u001b[0mmerge\u001b[0m\u001b[0;34m(\u001b[0m\u001b[0mdf_CCL\u001b[0m\u001b[0;34m,\u001b[0m \u001b[0mon\u001b[0m\u001b[0;34m=\u001b[0m\u001b[0;34m'date'\u001b[0m\u001b[0;34m)\u001b[0m\u001b[0;34m\u001b[0m\u001b[0;34m\u001b[0m\u001b[0m\n",
      "\u001b[0;31mNameError\u001b[0m: name 'df' is not defined"
     ]
    }
   ],
   "source": [
    "df_F =  df.loc[df['ticker'] == 'F']\n",
    "df_CCL =  df.loc[df['ticker'] == 'CCL']\n",
    "df_TJX =  df.loc[df['ticker'] == 'TJX']\n",
    "\n",
    "df_consumer_discretionary = df_F.merge(df_CCL, on='date')\n",
    "\n",
    "df_consumer_discretionary = df_consumer_discretionary.merge(df_TJX, on = \"date\")"
   ]
  },
  {
   "cell_type": "code",
   "execution_count": 176,
   "metadata": {},
   "outputs": [
    {
     "data": {
      "text/html": [
       "<div>\n",
       "<style scoped>\n",
       "    .dataframe tbody tr th:only-of-type {\n",
       "        vertical-align: middle;\n",
       "    }\n",
       "\n",
       "    .dataframe tbody tr th {\n",
       "        vertical-align: top;\n",
       "    }\n",
       "\n",
       "    .dataframe thead th {\n",
       "        text-align: right;\n",
       "    }\n",
       "</style>\n",
       "<table border=\"1\" class=\"dataframe\">\n",
       "  <thead>\n",
       "    <tr style=\"text-align: right;\">\n",
       "      <th></th>\n",
       "      <th>ticker_x</th>\n",
       "      <th>open_x</th>\n",
       "      <th>close_x</th>\n",
       "      <th>adj_close_x</th>\n",
       "      <th>low_x</th>\n",
       "      <th>high_x</th>\n",
       "      <th>volume_x</th>\n",
       "      <th>date</th>\n",
       "      <th>ticker_y</th>\n",
       "      <th>open_y</th>\n",
       "      <th>...</th>\n",
       "      <th>low_y</th>\n",
       "      <th>high_y</th>\n",
       "      <th>volume_y</th>\n",
       "      <th>ticker</th>\n",
       "      <th>open</th>\n",
       "      <th>close</th>\n",
       "      <th>adj_close</th>\n",
       "      <th>low</th>\n",
       "      <th>high</th>\n",
       "      <th>volume</th>\n",
       "    </tr>\n",
       "  </thead>\n",
       "  <tbody>\n",
       "    <tr>\n",
       "      <th>0</th>\n",
       "      <td>F</td>\n",
       "      <td>9.488766</td>\n",
       "      <td>9.488766</td>\n",
       "      <td>0.095362</td>\n",
       "      <td>9.465956</td>\n",
       "      <td>9.602813</td>\n",
       "      <td>9277700</td>\n",
       "      <td>1987-07-24</td>\n",
       "      <td>CCL</td>\n",
       "      <td>3.87500</td>\n",
       "      <td>...</td>\n",
       "      <td>3.8750</td>\n",
       "      <td>3.93750</td>\n",
       "      <td>15566400</td>\n",
       "      <td>TJX</td>\n",
       "      <td>1.515625</td>\n",
       "      <td>1.531250</td>\n",
       "      <td>0.012169</td>\n",
       "      <td>1.507812</td>\n",
       "      <td>1.539062</td>\n",
       "      <td>1108800</td>\n",
       "    </tr>\n",
       "    <tr>\n",
       "      <th>1</th>\n",
       "      <td>F</td>\n",
       "      <td>9.500171</td>\n",
       "      <td>9.397528</td>\n",
       "      <td>0.094445</td>\n",
       "      <td>9.374718</td>\n",
       "      <td>9.522980</td>\n",
       "      <td>9291800</td>\n",
       "      <td>1987-07-27</td>\n",
       "      <td>CCL</td>\n",
       "      <td>3.93750</td>\n",
       "      <td>...</td>\n",
       "      <td>3.8750</td>\n",
       "      <td>3.93750</td>\n",
       "      <td>1931200</td>\n",
       "      <td>TJX</td>\n",
       "      <td>1.531250</td>\n",
       "      <td>1.578125</td>\n",
       "      <td>0.012542</td>\n",
       "      <td>1.523438</td>\n",
       "      <td>1.578125</td>\n",
       "      <td>385600</td>\n",
       "    </tr>\n",
       "    <tr>\n",
       "      <th>2</th>\n",
       "      <td>F</td>\n",
       "      <td>9.386123</td>\n",
       "      <td>9.249266</td>\n",
       "      <td>0.106281</td>\n",
       "      <td>9.215051</td>\n",
       "      <td>9.397528</td>\n",
       "      <td>13261800</td>\n",
       "      <td>1987-07-28</td>\n",
       "      <td>CCL</td>\n",
       "      <td>3.90625</td>\n",
       "      <td>...</td>\n",
       "      <td>3.8750</td>\n",
       "      <td>3.90625</td>\n",
       "      <td>2074800</td>\n",
       "      <td>TJX</td>\n",
       "      <td>1.578125</td>\n",
       "      <td>1.546875</td>\n",
       "      <td>0.012293</td>\n",
       "      <td>1.546875</td>\n",
       "      <td>1.601562</td>\n",
       "      <td>755200</td>\n",
       "    </tr>\n",
       "    <tr>\n",
       "      <th>3</th>\n",
       "      <td>F</td>\n",
       "      <td>9.260670</td>\n",
       "      <td>9.294885</td>\n",
       "      <td>0.106805</td>\n",
       "      <td>9.180837</td>\n",
       "      <td>9.294885</td>\n",
       "      <td>10328900</td>\n",
       "      <td>1987-07-29</td>\n",
       "      <td>CCL</td>\n",
       "      <td>3.87500</td>\n",
       "      <td>...</td>\n",
       "      <td>3.8750</td>\n",
       "      <td>3.90625</td>\n",
       "      <td>4930800</td>\n",
       "      <td>TJX</td>\n",
       "      <td>1.546875</td>\n",
       "      <td>1.515625</td>\n",
       "      <td>0.012045</td>\n",
       "      <td>1.492188</td>\n",
       "      <td>1.562500</td>\n",
       "      <td>1360000</td>\n",
       "    </tr>\n",
       "    <tr>\n",
       "      <th>4</th>\n",
       "      <td>F</td>\n",
       "      <td>9.317694</td>\n",
       "      <td>9.306290</td>\n",
       "      <td>0.106936</td>\n",
       "      <td>9.294885</td>\n",
       "      <td>9.386123</td>\n",
       "      <td>8125600</td>\n",
       "      <td>1987-07-30</td>\n",
       "      <td>CCL</td>\n",
       "      <td>3.87500</td>\n",
       "      <td>...</td>\n",
       "      <td>3.8125</td>\n",
       "      <td>3.90625</td>\n",
       "      <td>4654400</td>\n",
       "      <td>TJX</td>\n",
       "      <td>1.515625</td>\n",
       "      <td>1.562500</td>\n",
       "      <td>0.012417</td>\n",
       "      <td>1.515625</td>\n",
       "      <td>1.562500</td>\n",
       "      <td>2062400</td>\n",
       "    </tr>\n",
       "  </tbody>\n",
       "</table>\n",
       "<p>5 rows × 22 columns</p>\n",
       "</div>"
      ],
      "text/plain": [
       "  ticker_x    open_x   close_x  adj_close_x     low_x    high_x  volume_x  \\\n",
       "0        F  9.488766  9.488766     0.095362  9.465956  9.602813   9277700   \n",
       "1        F  9.500171  9.397528     0.094445  9.374718  9.522980   9291800   \n",
       "2        F  9.386123  9.249266     0.106281  9.215051  9.397528  13261800   \n",
       "3        F  9.260670  9.294885     0.106805  9.180837  9.294885  10328900   \n",
       "4        F  9.317694  9.306290     0.106936  9.294885  9.386123   8125600   \n",
       "\n",
       "         date ticker_y   open_y  ...   low_y   high_y  volume_y  ticker  \\\n",
       "0  1987-07-24      CCL  3.87500  ...  3.8750  3.93750  15566400     TJX   \n",
       "1  1987-07-27      CCL  3.93750  ...  3.8750  3.93750   1931200     TJX   \n",
       "2  1987-07-28      CCL  3.90625  ...  3.8750  3.90625   2074800     TJX   \n",
       "3  1987-07-29      CCL  3.87500  ...  3.8750  3.90625   4930800     TJX   \n",
       "4  1987-07-30      CCL  3.87500  ...  3.8125  3.90625   4654400     TJX   \n",
       "\n",
       "       open     close  adj_close       low      high   volume  \n",
       "0  1.515625  1.531250   0.012169  1.507812  1.539062  1108800  \n",
       "1  1.531250  1.578125   0.012542  1.523438  1.578125   385600  \n",
       "2  1.578125  1.546875   0.012293  1.546875  1.601562   755200  \n",
       "3  1.546875  1.515625   0.012045  1.492188  1.562500  1360000  \n",
       "4  1.515625  1.562500   0.012417  1.515625  1.562500  2062400  \n",
       "\n",
       "[5 rows x 22 columns]"
      ]
     },
     "execution_count": 176,
     "metadata": {},
     "output_type": "execute_result"
    }
   ],
   "source": [
    "df_consumer_discretionary.head()"
   ]
  },
  {
   "cell_type": "code",
   "execution_count": 177,
   "metadata": {},
   "outputs": [],
   "source": [
    "df_consumer_discretionary[\"open consumer discretionary\"] = df_consumer_discretionary[\"open_x\"] + df_consumer_discretionary[\"open_y\"] + df_consumer_discretionary[\"open\"]\n",
    "\n",
    "df_consumer_discretionary[\"close consumer discretionary\"] = df_consumer_discretionary[\"close_x\"] + df_consumer_discretionary[\"close_y\"] + df_consumer_discretionary[\"close\"]\n",
    "\n",
    "df_consumer_discretionary[\"adjusted close consumer discretionary\"] = df_consumer_discretionary[\"adj_close_x\"] + df_consumer_discretionary[\"adj_close_y\"] + df_consumer_discretionary[\"adj_close\"]\n",
    "\n",
    "df_consumer_discretionary[\"low consumer discretionary\"] = df_consumer_discretionary[\"low_x\"] + df_consumer_discretionary[\"low_y\"] + df_consumer_discretionary[\"low\"]\n",
    "\n",
    "df_consumer_discretionary[\"high consumer discretionary\"] = df_consumer_discretionary[\"high_x\"] + df_consumer_discretionary[\"high_y\"] + df_consumer_discretionary[\"high\"]\n",
    "\n",
    "df_consumer_discretionary[\"volume consumer discretionary\"] = df_consumer_discretionary[\"volume_x\"] + df_consumer_discretionary[\"volume_y\"] + df_consumer_discretionary[\"volume\"]"
   ]
  },
  {
   "cell_type": "code",
   "execution_count": 178,
   "metadata": {
    "scrolled": true
   },
   "outputs": [],
   "source": [
    "df_consumer_discretionary.drop(columns = [\"ticker_x\",\n",
    "\"open_x\",\n",
    "\"close_x\",\n",
    "\"adj_close_x\",\n",
    "\"low_x\",\n",
    "\"high_x\",\n",
    "\"volume_x\",\n",
    "\"date\",\n",
    "\"ticker_y\",\n",
    "\"open_y\",\n",
    "\"close_y\",\n",
    "\"adj_close_y\",\n",
    "\"low_y\",\n",
    "\"high_y\",\n",
    "\"volume_y\",\n",
    "\"ticker\",\n",
    "\"open\",\n",
    "\"close\",\n",
    "\"adj_close\",\n",
    "\"low\",\n",
    "\"high\",\n",
    "\"volume\"],\n",
    "inplace = True)"
   ]
  },
  {
   "cell_type": "code",
   "execution_count": 181,
   "metadata": {},
   "outputs": [
    {
     "data": {
      "text/html": [
       "<div>\n",
       "<style scoped>\n",
       "    .dataframe tbody tr th:only-of-type {\n",
       "        vertical-align: middle;\n",
       "    }\n",
       "\n",
       "    .dataframe tbody tr th {\n",
       "        vertical-align: top;\n",
       "    }\n",
       "\n",
       "    .dataframe thead th {\n",
       "        text-align: right;\n",
       "    }\n",
       "</style>\n",
       "<table border=\"1\" class=\"dataframe\">\n",
       "  <thead>\n",
       "    <tr style=\"text-align: right;\">\n",
       "      <th></th>\n",
       "      <th>ticker_x</th>\n",
       "      <th>open_x</th>\n",
       "      <th>close_x</th>\n",
       "      <th>adj_close_x</th>\n",
       "      <th>low_x</th>\n",
       "      <th>high_x</th>\n",
       "      <th>volume_x</th>\n",
       "      <th>date</th>\n",
       "      <th>ticker_y</th>\n",
       "      <th>open_y</th>\n",
       "      <th>...</th>\n",
       "      <th>adj_close</th>\n",
       "      <th>low</th>\n",
       "      <th>high</th>\n",
       "      <th>volume</th>\n",
       "      <th>open consumer discretionary</th>\n",
       "      <th>close consumer discretionary</th>\n",
       "      <th>adjusted close consumer discretionary</th>\n",
       "      <th>low consumer discretionary</th>\n",
       "      <th>high consumer discretionary</th>\n",
       "      <th>volume consumer discretionary</th>\n",
       "    </tr>\n",
       "  </thead>\n",
       "  <tbody>\n",
       "    <tr>\n",
       "      <th>0</th>\n",
       "      <td>F</td>\n",
       "      <td>9.488766</td>\n",
       "      <td>9.488766</td>\n",
       "      <td>0.095362</td>\n",
       "      <td>9.465956</td>\n",
       "      <td>9.602813</td>\n",
       "      <td>9277700</td>\n",
       "      <td>1987-07-24</td>\n",
       "      <td>CCL</td>\n",
       "      <td>3.87500</td>\n",
       "      <td>...</td>\n",
       "      <td>0.012169</td>\n",
       "      <td>1.507812</td>\n",
       "      <td>1.539062</td>\n",
       "      <td>1108800</td>\n",
       "      <td>14.879391</td>\n",
       "      <td>14.957516</td>\n",
       "      <td>1.331415</td>\n",
       "      <td>14.848768</td>\n",
       "      <td>15.079375</td>\n",
       "      <td>25952900</td>\n",
       "    </tr>\n",
       "    <tr>\n",
       "      <th>1</th>\n",
       "      <td>F</td>\n",
       "      <td>9.500171</td>\n",
       "      <td>9.397528</td>\n",
       "      <td>0.094445</td>\n",
       "      <td>9.374718</td>\n",
       "      <td>9.522980</td>\n",
       "      <td>9291800</td>\n",
       "      <td>1987-07-27</td>\n",
       "      <td>CCL</td>\n",
       "      <td>3.93750</td>\n",
       "      <td>...</td>\n",
       "      <td>0.012542</td>\n",
       "      <td>1.523438</td>\n",
       "      <td>1.578125</td>\n",
       "      <td>385600</td>\n",
       "      <td>14.968921</td>\n",
       "      <td>14.881903</td>\n",
       "      <td>1.321158</td>\n",
       "      <td>14.773155</td>\n",
       "      <td>15.038605</td>\n",
       "      <td>11608600</td>\n",
       "    </tr>\n",
       "    <tr>\n",
       "      <th>2</th>\n",
       "      <td>F</td>\n",
       "      <td>9.386123</td>\n",
       "      <td>9.249266</td>\n",
       "      <td>0.106281</td>\n",
       "      <td>9.215051</td>\n",
       "      <td>9.397528</td>\n",
       "      <td>13261800</td>\n",
       "      <td>1987-07-28</td>\n",
       "      <td>CCL</td>\n",
       "      <td>3.90625</td>\n",
       "      <td>...</td>\n",
       "      <td>0.012293</td>\n",
       "      <td>1.546875</td>\n",
       "      <td>1.601562</td>\n",
       "      <td>755200</td>\n",
       "      <td>14.870498</td>\n",
       "      <td>14.671141</td>\n",
       "      <td>1.323030</td>\n",
       "      <td>14.636926</td>\n",
       "      <td>14.905340</td>\n",
       "      <td>16091800</td>\n",
       "    </tr>\n",
       "    <tr>\n",
       "      <th>3</th>\n",
       "      <td>F</td>\n",
       "      <td>9.260670</td>\n",
       "      <td>9.294885</td>\n",
       "      <td>0.106805</td>\n",
       "      <td>9.180837</td>\n",
       "      <td>9.294885</td>\n",
       "      <td>10328900</td>\n",
       "      <td>1987-07-29</td>\n",
       "      <td>CCL</td>\n",
       "      <td>3.87500</td>\n",
       "      <td>...</td>\n",
       "      <td>0.012045</td>\n",
       "      <td>1.492188</td>\n",
       "      <td>1.562500</td>\n",
       "      <td>1360000</td>\n",
       "      <td>14.682545</td>\n",
       "      <td>14.685510</td>\n",
       "      <td>1.323306</td>\n",
       "      <td>14.548024</td>\n",
       "      <td>14.763635</td>\n",
       "      <td>16619700</td>\n",
       "    </tr>\n",
       "    <tr>\n",
       "      <th>4</th>\n",
       "      <td>F</td>\n",
       "      <td>9.317694</td>\n",
       "      <td>9.306290</td>\n",
       "      <td>0.106936</td>\n",
       "      <td>9.294885</td>\n",
       "      <td>9.386123</td>\n",
       "      <td>8125600</td>\n",
       "      <td>1987-07-30</td>\n",
       "      <td>CCL</td>\n",
       "      <td>3.87500</td>\n",
       "      <td>...</td>\n",
       "      <td>0.012417</td>\n",
       "      <td>1.515625</td>\n",
       "      <td>1.562500</td>\n",
       "      <td>2062400</td>\n",
       "      <td>14.708319</td>\n",
       "      <td>14.681290</td>\n",
       "      <td>1.304384</td>\n",
       "      <td>14.623010</td>\n",
       "      <td>14.854873</td>\n",
       "      <td>14842400</td>\n",
       "    </tr>\n",
       "  </tbody>\n",
       "</table>\n",
       "<p>5 rows × 28 columns</p>\n",
       "</div>"
      ],
      "text/plain": [
       "  ticker_x    open_x   close_x  adj_close_x     low_x    high_x  volume_x  \\\n",
       "0        F  9.488766  9.488766     0.095362  9.465956  9.602813   9277700   \n",
       "1        F  9.500171  9.397528     0.094445  9.374718  9.522980   9291800   \n",
       "2        F  9.386123  9.249266     0.106281  9.215051  9.397528  13261800   \n",
       "3        F  9.260670  9.294885     0.106805  9.180837  9.294885  10328900   \n",
       "4        F  9.317694  9.306290     0.106936  9.294885  9.386123   8125600   \n",
       "\n",
       "         date ticker_y   open_y  ...  adj_close       low      high   volume  \\\n",
       "0  1987-07-24      CCL  3.87500  ...   0.012169  1.507812  1.539062  1108800   \n",
       "1  1987-07-27      CCL  3.93750  ...   0.012542  1.523438  1.578125   385600   \n",
       "2  1987-07-28      CCL  3.90625  ...   0.012293  1.546875  1.601562   755200   \n",
       "3  1987-07-29      CCL  3.87500  ...   0.012045  1.492188  1.562500  1360000   \n",
       "4  1987-07-30      CCL  3.87500  ...   0.012417  1.515625  1.562500  2062400   \n",
       "\n",
       "   open consumer discretionary close consumer discretionary  \\\n",
       "0                    14.879391                    14.957516   \n",
       "1                    14.968921                    14.881903   \n",
       "2                    14.870498                    14.671141   \n",
       "3                    14.682545                    14.685510   \n",
       "4                    14.708319                    14.681290   \n",
       "\n",
       "   adjusted close consumer discretionary  low consumer discretionary  \\\n",
       "0                               1.331415                   14.848768   \n",
       "1                               1.321158                   14.773155   \n",
       "2                               1.323030                   14.636926   \n",
       "3                               1.323306                   14.548024   \n",
       "4                               1.304384                   14.623010   \n",
       "\n",
       "   high consumer discretionary  volume consumer discretionary  \n",
       "0                    15.079375                       25952900  \n",
       "1                    15.038605                       11608600  \n",
       "2                    14.905340                       16091800  \n",
       "3                    14.763635                       16619700  \n",
       "4                    14.854873                       14842400  \n",
       "\n",
       "[5 rows x 28 columns]"
      ]
     },
     "execution_count": 181,
     "metadata": {},
     "output_type": "execute_result"
    }
   ],
   "source": [
    "df_consumer_discretionary.head()"
   ]
  },
  {
   "cell_type": "code",
   "execution_count": 185,
   "metadata": {},
   "outputs": [],
   "source": [
    "df_consumer_discretionary.to_csv('df_consumer_discretionary.csv') "
   ]
  },
  {
   "cell_type": "markdown",
   "metadata": {},
   "source": [
    "NEW CSV FILES END HERE\n",
    "\n",
    "\n",
    "\n",
    "#\n",
    "#\n",
    "#\n",
    "#\n",
    "#\n",
    "#\n",
    "#"
   ]
  },
  {
   "cell_type": "code",
   "execution_count": null,
   "metadata": {},
   "outputs": [],
   "source": []
  },
  {
   "cell_type": "code",
   "execution_count": null,
   "metadata": {},
   "outputs": [],
   "source": []
  },
  {
   "cell_type": "code",
   "execution_count": null,
   "metadata": {},
   "outputs": [],
   "source": []
  },
  {
   "cell_type": "code",
   "execution_count": null,
   "metadata": {},
   "outputs": [],
   "source": []
  },
  {
   "cell_type": "code",
   "execution_count": null,
   "metadata": {},
   "outputs": [],
   "source": []
  },
  {
   "cell_type": "code",
   "execution_count": null,
   "metadata": {},
   "outputs": [],
   "source": []
  },
  {
   "cell_type": "code",
   "execution_count": null,
   "metadata": {},
   "outputs": [],
   "source": [
    "df.head()"
   ]
  },
  {
   "cell_type": "code",
   "execution_count": null,
   "metadata": {},
   "outputs": [],
   "source": [
    "df_2 = df.loc[df['ticker'] == 'VIX']"
   ]
  },
  {
   "cell_type": "code",
   "execution_count": null,
   "metadata": {},
   "outputs": [],
   "source": [
    "df_2"
   ]
  },
  {
   "cell_type": "code",
   "execution_count": null,
   "metadata": {},
   "outputs": [],
   "source": [
    "df.head(5)"
   ]
  },
  {
   "cell_type": "code",
   "execution_count": null,
   "metadata": {},
   "outputs": [],
   "source": [
    "df.info"
   ]
  },
  {
   "cell_type": "code",
   "execution_count": null,
   "metadata": {},
   "outputs": [],
   "source": [
    "df.shape"
   ]
  },
  {
   "cell_type": "code",
   "execution_count": null,
   "metadata": {},
   "outputs": [],
   "source": [
    "df['ticker'].value_counts()"
   ]
  },
  {
   "cell_type": "code",
   "execution_count": null,
   "metadata": {},
   "outputs": [],
   "source": [
    "df.isnull().sum()"
   ]
  },
  {
   "cell_type": "code",
   "execution_count": null,
   "metadata": {},
   "outputs": [],
   "source": [
    "df.dtypes"
   ]
  },
  {
   "cell_type": "code",
   "execution_count": null,
   "metadata": {
    "scrolled": true
   },
   "outputs": [],
   "source": [
    "df['ticker'] == 'VIX'"
   ]
  },
  {
   "cell_type": "code",
   "execution_count": null,
   "metadata": {},
   "outputs": [],
   "source": [
    "y = df['close']\n",
    "X = df.drop(columns=['close', 'date', 'ticker'])"
   ]
  },
  {
   "cell_type": "code",
   "execution_count": null,
   "metadata": {},
   "outputs": [],
   "source": [
    "print(X)"
   ]
  },
  {
   "cell_type": "code",
   "execution_count": null,
   "metadata": {},
   "outputs": [],
   "source": [
    "X_train, X_test, y_train, y_test = train_test_split(X, y, random_state = 42)"
   ]
  },
  {
   "cell_type": "code",
   "execution_count": null,
   "metadata": {},
   "outputs": [],
   "source": [
    "X_train.dtypes"
   ]
  },
  {
   "cell_type": "code",
   "execution_count": null,
   "metadata": {},
   "outputs": [],
   "source": [
    "x_train = np.array(X_train)\n",
    "x_test = np.array(X_test)"
   ]
  },
  {
   "cell_type": "code",
   "execution_count": null,
   "metadata": {},
   "outputs": [],
   "source": [
    "\n",
    "ss = StandardScaler()\n",
    "\n",
    "Xs_train = ss.fit_transform(x_train)\n",
    "Xs_test = ss.transform(x_test)"
   ]
  },
  {
   "cell_type": "code",
   "execution_count": null,
   "metadata": {},
   "outputs": [],
   "source": []
  },
  {
   "cell_type": "code",
   "execution_count": null,
   "metadata": {},
   "outputs": [],
   "source": [
    "#setting up 'blank canvas'\n",
    "model = Sequential()\n",
    "\n",
    "#input layer\n",
    "model.add(Dense(24,\n",
    "               input_shape = x_train[0].shape,\n",
    "               activation = 'relu'))\n",
    "\n",
    "#hidden layer\n",
    "model.add(Dense(8, activation = 'relu'))\n",
    "\n",
    "#output layer\n",
    "model.add(Dense(1, activation = 'linear'))"
   ]
  },
  {
   "cell_type": "code",
   "execution_count": null,
   "metadata": {},
   "outputs": [],
   "source": [
    "model.compile(loss = 'mse', optimizer = 'adam', metrics = ['mse'])"
   ]
  },
  {
   "cell_type": "code",
   "execution_count": null,
   "metadata": {},
   "outputs": [],
   "source": [
    "#history = model.fit(Xs_train, y_train, validation_data = (Xs_test, y_test), epochs = 100, verbose=0)"
   ]
  },
  {
   "cell_type": "code",
   "execution_count": null,
   "metadata": {},
   "outputs": [],
   "source": [
    "newdf = df.loc[df['ticker'] == 'GOOG']"
   ]
  },
  {
   "cell_type": "code",
   "execution_count": null,
   "metadata": {},
   "outputs": [],
   "source": [
    "newdf.value_counts()"
   ]
  },
  {
   "cell_type": "code",
   "execution_count": null,
   "metadata": {},
   "outputs": [],
   "source": [
    "newdf.head()"
   ]
  },
  {
   "cell_type": "code",
   "execution_count": null,
   "metadata": {},
   "outputs": [],
   "source": [
    "newdf.shape"
   ]
  },
  {
   "cell_type": "code",
   "execution_count": null,
   "metadata": {},
   "outputs": [],
   "source": [
    "y = newdf['close']\n",
    "X = newdf.drop(columns=['close', 'date', 'ticker'])"
   ]
  },
  {
   "cell_type": "code",
   "execution_count": null,
   "metadata": {},
   "outputs": [],
   "source": [
    "X_train, X_test, y_train, y_test = train_test_split(X, y, random_state = 42)"
   ]
  },
  {
   "cell_type": "code",
   "execution_count": null,
   "metadata": {},
   "outputs": [],
   "source": [
    "x_train = np.array(X_train)\n",
    "x_test = np.array(X_test)"
   ]
  },
  {
   "cell_type": "code",
   "execution_count": null,
   "metadata": {},
   "outputs": [],
   "source": [
    "from sklearn.preprocessing import StandardScaler\n",
    "ss = StandardScaler()\n",
    "\n",
    "Xs_train = ss.fit_transform(x_train)\n",
    "Xs_test = ss.transform(x_test)"
   ]
  },
  {
   "cell_type": "code",
   "execution_count": null,
   "metadata": {},
   "outputs": [],
   "source": [
    "#setting up 'blank canvas'\n",
    "model = Sequential()\n",
    "\n",
    "#input layer\n",
    "model.add(Dense(24,\n",
    "               input_shape = x_train[0].shape,\n",
    "               activation = 'relu'))\n",
    "\n",
    "#hidden layer\n",
    "model.add(Dense(8, activation = 'relu'))\n",
    "\n",
    "#output layer\n",
    "model.add(Dense(1, activation = 'linear'))"
   ]
  },
  {
   "cell_type": "code",
   "execution_count": null,
   "metadata": {},
   "outputs": [],
   "source": [
    "model.compile(loss = 'mse', optimizer = 'adam', metrics = ['mse', 'accuracy'])"
   ]
  },
  {
   "cell_type": "code",
   "execution_count": null,
   "metadata": {},
   "outputs": [],
   "source": [
    "history = model.fit(Xs_train, y_train, validation_data = (Xs_test, y_test), epochs = 100, verbose=0)"
   ]
  },
  {
   "cell_type": "code",
   "execution_count": null,
   "metadata": {
    "scrolled": true
   },
   "outputs": [],
   "source": [
    "plt.plot(history.history['loss'], label='Train loss')\n",
    "plt.plot(history.history['val_loss'], label='Val Loss')\n",
    "plt.plot(history.history['accuracy'], label = 'Train Accuracy')\n",
    "plt.plot(history.history['val_accuracy'], label = 'Val Accuracy')\n",
    "plt.legend();"
   ]
  },
  {
   "cell_type": "code",
   "execution_count": null,
   "metadata": {},
   "outputs": [],
   "source": [
    "from tensorflow.keras.preprocessing.sequence import TimeseriesGenerator"
   ]
  },
  {
   "cell_type": "code",
   "execution_count": null,
   "metadata": {},
   "outputs": [],
   "source": [
    "train_sequences = TimeseriesGenerator(Xs_train, y_train, length=3, batch_size=64)"
   ]
  },
  {
   "cell_type": "code",
   "execution_count": null,
   "metadata": {},
   "outputs": [],
   "source": [
    "test_sequences = TimeseriesGenerator(Xs_test, y_test, length=3, batch_size=64)"
   ]
  },
  {
   "cell_type": "code",
   "execution_count": null,
   "metadata": {},
   "outputs": [],
   "source": []
  },
  {
   "cell_type": "code",
   "execution_count": null,
   "metadata": {},
   "outputs": [],
   "source": [
    "predicted_stock_price = model.predict(Xs_test)"
   ]
  },
  {
   "cell_type": "code",
   "execution_count": null,
   "metadata": {},
   "outputs": [],
   "source": [
    "plt.plot(X_test,label = ('Real GOOGLE Stock Price')\n",
    "plt.plot(predicted_stock_price,label = ('Predicted GOOGLE Stock Price’)\n",
    "plt.xticks(np.arange(0,459,50))\n",
    "plt.title('GOOGLE Stock Price Prediction')\n",
    "plt.xlabel('Time')\n",
    "plt.ylabel('GOOGLE Stock Price')\n",
    "plt.legend()\n",
    "plt.show()"
   ]
  },
  {
   "cell_type": "code",
   "execution_count": null,
   "metadata": {},
   "outputs": [],
   "source": [
    "plt.plot(y_test)\n",
    "plt.plot(predicted_stock_price)\n",
    "plt.legend()\n",
    "plt.show();"
   ]
  },
  {
   "cell_type": "code",
   "execution_count": null,
   "metadata": {
    "scrolled": true
   },
   "outputs": [],
   "source": [
    "y_test"
   ]
  },
  {
   "cell_type": "code",
   "execution_count": null,
   "metadata": {},
   "outputs": [],
   "source": []
  }
 ],
 "metadata": {
  "kernelspec": {
   "display_name": "Python 3",
   "language": "python",
   "name": "python3"
  },
  "language_info": {
   "codemirror_mode": {
    "name": "ipython",
    "version": 3
   },
   "file_extension": ".py",
   "mimetype": "text/x-python",
   "name": "python",
   "nbconvert_exporter": "python",
   "pygments_lexer": "ipython3",
   "version": "3.8.5"
  }
 },
 "nbformat": 4,
 "nbformat_minor": 4
}
